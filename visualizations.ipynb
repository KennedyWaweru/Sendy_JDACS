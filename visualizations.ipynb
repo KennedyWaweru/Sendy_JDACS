{
 "cells": [
  {
   "cell_type": "code",
   "execution_count": 2,
   "id": "05742ac5",
   "metadata": {},
   "outputs": [],
   "source": [
    "import pandas as pd\n",
    "import numpy as np\n",
    "import seaborn as sns\n",
    "from matplotlib import pyplot as plt"
   ]
  },
  {
   "cell_type": "code",
   "execution_count": 3,
   "id": "18f4d38e",
   "metadata": {},
   "outputs": [],
   "source": [
    "df = pd.read_excel('JDACS.xlsx',engine='openpyxl',sheet_name='Query result')"
   ]
  },
  {
   "cell_type": "code",
   "execution_count": 4,
   "id": "e8b411b1",
   "metadata": {},
   "outputs": [
    {
     "name": "stdout",
     "output_type": "stream",
     "text": [
      "<class 'pandas.core.frame.DataFrame'>\n",
      "RangeIndex: 6398 entries, 0 to 6397\n",
      "Data columns (total 17 columns):\n",
      " #   Column                Non-Null Count  Dtype  \n",
      "---  ------                --------------  -----  \n",
      " 0   Personal or Business  6398 non-null   object \n",
      " 1   Business Number       3064 non-null   float64\n",
      " 2   Vehicle Type          6398 non-null   object \n",
      " 3   Standard or Express   6393 non-null   object \n",
      " 4   Platform              6398 non-null   object \n",
      " 5   Cancel Reason         6398 non-null   object \n",
      " 6   Cancelled by          6398 non-null   object \n",
      " 7   Placement Day         6398 non-null   float64\n",
      " 8   Placement Time        6398 non-null   object \n",
      " 9   Confirmation Day      2882 non-null   float64\n",
      " 10  Confirmation Time     2882 non-null   object \n",
      " 11  Cancellation Day      6398 non-null   float64\n",
      " 12  Cancellation Time     6398 non-null   object \n",
      " 13  Distance (KM)         6398 non-null   float64\n",
      " 14  Pickup Lat            6398 non-null   float64\n",
      " 15  Pickup Long           6398 non-null   float64\n",
      " 16  scheduled             6398 non-null   object \n",
      "dtypes: float64(7), object(10)\n",
      "memory usage: 849.9+ KB\n"
     ]
    }
   ],
   "source": [
    "df.info()"
   ]
  },
  {
   "cell_type": "code",
   "execution_count": 6,
   "id": "417b31f7",
   "metadata": {},
   "outputs": [
    {
     "data": {
      "text/plain": [
       "(6398, 17)"
      ]
     },
     "execution_count": 6,
     "metadata": {},
     "output_type": "execute_result"
    }
   ],
   "source": [
    "df.shape"
   ]
  },
  {
   "cell_type": "markdown",
   "id": "6b4d0d11",
   "metadata": {},
   "source": [
    "Categorical Columns: Personal or Business, Business Number, Vehicle Type, Standard or Express, Platform, Cancel Reason, Cancelled by, Placement Day, Cancellation Day, scheduled\n",
    "\n",
    "Numerical Columns: Placement Time, Cancellation Time, Distance (KM), Pickup Lat, Pickup Long"
   ]
  },
  {
   "cell_type": "code",
   "execution_count": 5,
   "id": "ffe70319",
   "metadata": {},
   "outputs": [
    {
     "data": {
      "text/html": [
       "<div>\n",
       "<style scoped>\n",
       "    .dataframe tbody tr th:only-of-type {\n",
       "        vertical-align: middle;\n",
       "    }\n",
       "\n",
       "    .dataframe tbody tr th {\n",
       "        vertical-align: top;\n",
       "    }\n",
       "\n",
       "    .dataframe thead th {\n",
       "        text-align: right;\n",
       "    }\n",
       "</style>\n",
       "<table border=\"1\" class=\"dataframe\">\n",
       "  <thead>\n",
       "    <tr style=\"text-align: right;\">\n",
       "      <th></th>\n",
       "      <th>Personal or Business</th>\n",
       "      <th>Business Number</th>\n",
       "      <th>Vehicle Type</th>\n",
       "      <th>Standard or Express</th>\n",
       "      <th>Platform</th>\n",
       "      <th>Cancel Reason</th>\n",
       "      <th>Cancelled by</th>\n",
       "      <th>Placement Day</th>\n",
       "      <th>Cancellation Day</th>\n",
       "      <th>scheduled</th>\n",
       "    </tr>\n",
       "  </thead>\n",
       "  <tbody>\n",
       "    <tr>\n",
       "      <th>0</th>\n",
       "      <td>Personal</td>\n",
       "      <td>NaN</td>\n",
       "      <td>Bike</td>\n",
       "      <td>Express</td>\n",
       "      <td>android</td>\n",
       "      <td>No driver has been allocated to my request.</td>\n",
       "      <td>Customer</td>\n",
       "      <td>1.0</td>\n",
       "      <td>1.0</td>\n",
       "      <td>OnDemAND</td>\n",
       "    </tr>\n",
       "    <tr>\n",
       "      <th>1</th>\n",
       "      <td>Personal</td>\n",
       "      <td>NaN</td>\n",
       "      <td>Bike</td>\n",
       "      <td>Express</td>\n",
       "      <td>android</td>\n",
       "      <td>My order is not ready.</td>\n",
       "      <td>Customer</td>\n",
       "      <td>1.0</td>\n",
       "      <td>1.0</td>\n",
       "      <td>OnDemAND</td>\n",
       "    </tr>\n",
       "    <tr>\n",
       "      <th>2</th>\n",
       "      <td>Business</td>\n",
       "      <td>20680.0</td>\n",
       "      <td>Bike</td>\n",
       "      <td>Express</td>\n",
       "      <td>android</td>\n",
       "      <td>I placed the wrong locations.</td>\n",
       "      <td>Customer</td>\n",
       "      <td>1.0</td>\n",
       "      <td>1.0</td>\n",
       "      <td>OnDemAND</td>\n",
       "    </tr>\n",
       "    <tr>\n",
       "      <th>3</th>\n",
       "      <td>Personal</td>\n",
       "      <td>NaN</td>\n",
       "      <td>Bike</td>\n",
       "      <td>Express</td>\n",
       "      <td>android</td>\n",
       "      <td>My order is not ready.</td>\n",
       "      <td>Customer</td>\n",
       "      <td>1.0</td>\n",
       "      <td>1.0</td>\n",
       "      <td>OnDemAND</td>\n",
       "    </tr>\n",
       "    <tr>\n",
       "      <th>4</th>\n",
       "      <td>Personal</td>\n",
       "      <td>NaN</td>\n",
       "      <td>Bike</td>\n",
       "      <td>Standard</td>\n",
       "      <td>ios</td>\n",
       "      <td>No Partner</td>\n",
       "      <td>Staff</td>\n",
       "      <td>1.0</td>\n",
       "      <td>1.0</td>\n",
       "      <td>OnDemAND</td>\n",
       "    </tr>\n",
       "  </tbody>\n",
       "</table>\n",
       "</div>"
      ],
      "text/plain": [
       "  Personal or Business Business Number Vehicle Type Standard or Express  \\\n",
       "0             Personal             NaN         Bike             Express   \n",
       "1             Personal             NaN         Bike             Express   \n",
       "2             Business         20680.0         Bike             Express   \n",
       "3             Personal             NaN         Bike             Express   \n",
       "4             Personal             NaN         Bike            Standard   \n",
       "\n",
       "  Platform                                Cancel Reason Cancelled by  \\\n",
       "0  android  No driver has been allocated to my request.     Customer   \n",
       "1  android                       My order is not ready.     Customer   \n",
       "2  android                I placed the wrong locations.     Customer   \n",
       "3  android                       My order is not ready.     Customer   \n",
       "4      ios                                   No Partner        Staff   \n",
       "\n",
       "  Placement Day Cancellation Day scheduled  \n",
       "0           1.0              1.0  OnDemAND  \n",
       "1           1.0              1.0  OnDemAND  \n",
       "2           1.0              1.0  OnDemAND  \n",
       "3           1.0              1.0  OnDemAND  \n",
       "4           1.0              1.0  OnDemAND  "
      ]
     },
     "execution_count": 5,
     "metadata": {},
     "output_type": "execute_result"
    }
   ],
   "source": [
    "# convert categorical columns to categorical dtypes\n",
    "cat_df = df.loc[:,\n",
    "                ['Personal or Business','Business Number','Vehicle Type',\n",
    "                 'Standard or Express','Platform','Cancel Reason',\n",
    "                 'Cancelled by','Placement Day','Cancellation Day','scheduled'\n",
    "                ]\n",
    "               ].apply(lambda x: x.astype('category'))\n",
    "cat_df.head()"
   ]
  },
  {
   "cell_type": "code",
   "execution_count": 7,
   "id": "d5b85c51",
   "metadata": {},
   "outputs": [
    {
     "data": {
      "text/html": [
       "<div>\n",
       "<style scoped>\n",
       "    .dataframe tbody tr th:only-of-type {\n",
       "        vertical-align: middle;\n",
       "    }\n",
       "\n",
       "    .dataframe tbody tr th {\n",
       "        vertical-align: top;\n",
       "    }\n",
       "\n",
       "    .dataframe thead th {\n",
       "        text-align: right;\n",
       "    }\n",
       "</style>\n",
       "<table border=\"1\" class=\"dataframe\">\n",
       "  <thead>\n",
       "    <tr style=\"text-align: right;\">\n",
       "      <th></th>\n",
       "      <th>Business Number</th>\n",
       "      <th>Placement Day</th>\n",
       "      <th>Confirmation Day</th>\n",
       "      <th>Cancellation Day</th>\n",
       "      <th>Distance (KM)</th>\n",
       "      <th>Pickup Lat</th>\n",
       "      <th>Pickup Long</th>\n",
       "    </tr>\n",
       "  </thead>\n",
       "  <tbody>\n",
       "    <tr>\n",
       "      <th>count</th>\n",
       "      <td>3064.000000</td>\n",
       "      <td>6398.000000</td>\n",
       "      <td>2882.000000</td>\n",
       "      <td>6398.000000</td>\n",
       "      <td>6398.000000</td>\n",
       "      <td>6398.000000</td>\n",
       "      <td>6398.000000</td>\n",
       "    </tr>\n",
       "    <tr>\n",
       "      <th>mean</th>\n",
       "      <td>28831.983029</td>\n",
       "      <td>3.634730</td>\n",
       "      <td>3.445871</td>\n",
       "      <td>3.673648</td>\n",
       "      <td>13.926071</td>\n",
       "      <td>-1.287770</td>\n",
       "      <td>36.814942</td>\n",
       "    </tr>\n",
       "    <tr>\n",
       "      <th>std</th>\n",
       "      <td>10932.772820</td>\n",
       "      <td>1.709081</td>\n",
       "      <td>1.623762</td>\n",
       "      <td>1.712791</td>\n",
       "      <td>45.293385</td>\n",
       "      <td>0.067069</td>\n",
       "      <td>0.113844</td>\n",
       "    </tr>\n",
       "    <tr>\n",
       "      <th>min</th>\n",
       "      <td>10036.000000</td>\n",
       "      <td>1.000000</td>\n",
       "      <td>1.000000</td>\n",
       "      <td>1.000000</td>\n",
       "      <td>0.000000</td>\n",
       "      <td>-2.390920</td>\n",
       "      <td>32.628902</td>\n",
       "    </tr>\n",
       "    <tr>\n",
       "      <th>25%</th>\n",
       "      <td>20680.000000</td>\n",
       "      <td>2.000000</td>\n",
       "      <td>2.000000</td>\n",
       "      <td>2.000000</td>\n",
       "      <td>5.000000</td>\n",
       "      <td>-1.315784</td>\n",
       "      <td>36.786009</td>\n",
       "    </tr>\n",
       "    <tr>\n",
       "      <th>50%</th>\n",
       "      <td>29230.000000</td>\n",
       "      <td>4.000000</td>\n",
       "      <td>3.000000</td>\n",
       "      <td>4.000000</td>\n",
       "      <td>9.000000</td>\n",
       "      <td>-1.291189</td>\n",
       "      <td>36.812909</td>\n",
       "    </tr>\n",
       "    <tr>\n",
       "      <th>75%</th>\n",
       "      <td>32692.000000</td>\n",
       "      <td>5.000000</td>\n",
       "      <td>5.000000</td>\n",
       "      <td>5.000000</td>\n",
       "      <td>16.000000</td>\n",
       "      <td>-1.263968</td>\n",
       "      <td>36.843230</td>\n",
       "    </tr>\n",
       "    <tr>\n",
       "      <th>max</th>\n",
       "      <td>62392.000000</td>\n",
       "      <td>7.000000</td>\n",
       "      <td>7.000000</td>\n",
       "      <td>7.000000</td>\n",
       "      <td>2061.000000</td>\n",
       "      <td>0.551064</td>\n",
       "      <td>40.689788</td>\n",
       "    </tr>\n",
       "  </tbody>\n",
       "</table>\n",
       "</div>"
      ],
      "text/plain": [
       "       Business Number  Placement Day  Confirmation Day  Cancellation Day  \\\n",
       "count      3064.000000    6398.000000       2882.000000       6398.000000   \n",
       "mean      28831.983029       3.634730          3.445871          3.673648   \n",
       "std       10932.772820       1.709081          1.623762          1.712791   \n",
       "min       10036.000000       1.000000          1.000000          1.000000   \n",
       "25%       20680.000000       2.000000          2.000000          2.000000   \n",
       "50%       29230.000000       4.000000          3.000000          4.000000   \n",
       "75%       32692.000000       5.000000          5.000000          5.000000   \n",
       "max       62392.000000       7.000000          7.000000          7.000000   \n",
       "\n",
       "       Distance (KM)   Pickup Lat  Pickup Long  \n",
       "count    6398.000000  6398.000000  6398.000000  \n",
       "mean       13.926071    -1.287770    36.814942  \n",
       "std        45.293385     0.067069     0.113844  \n",
       "min         0.000000    -2.390920    32.628902  \n",
       "25%         5.000000    -1.315784    36.786009  \n",
       "50%         9.000000    -1.291189    36.812909  \n",
       "75%        16.000000    -1.263968    36.843230  \n",
       "max      2061.000000     0.551064    40.689788  "
      ]
     },
     "execution_count": 7,
     "metadata": {},
     "output_type": "execute_result"
    }
   ],
   "source": [
    "df.describe()"
   ]
  },
  {
   "cell_type": "code",
   "execution_count": 8,
   "id": "b9aee3f4",
   "metadata": {},
   "outputs": [
    {
     "data": {
      "text/plain": [
       "Index(['Personal or Business', 'Business Number', 'Vehicle Type',\n",
       "       'Standard or Express', 'Platform', 'Cancel Reason', 'Cancelled by',\n",
       "       'Placement Day', 'Placement Time', 'Confirmation Day',\n",
       "       'Confirmation Time', 'Cancellation Day', 'Cancellation Time',\n",
       "       'Distance (KM)', 'Pickup Lat', 'Pickup Long', 'scheduled'],\n",
       "      dtype='object')"
      ]
     },
     "execution_count": 8,
     "metadata": {},
     "output_type": "execute_result"
    }
   ],
   "source": [
    "df.columns"
   ]
  },
  {
   "cell_type": "code",
   "execution_count": 7,
   "id": "7281acaf",
   "metadata": {},
   "outputs": [
    {
     "data": {
      "text/html": [
       "<div>\n",
       "<style scoped>\n",
       "    .dataframe tbody tr th:only-of-type {\n",
       "        vertical-align: middle;\n",
       "    }\n",
       "\n",
       "    .dataframe tbody tr th {\n",
       "        vertical-align: top;\n",
       "    }\n",
       "\n",
       "    .dataframe thead th {\n",
       "        text-align: right;\n",
       "    }\n",
       "</style>\n",
       "<table border=\"1\" class=\"dataframe\">\n",
       "  <thead>\n",
       "    <tr style=\"text-align: right;\">\n",
       "      <th></th>\n",
       "      <th>Personal or Business</th>\n",
       "      <th>Business Number</th>\n",
       "      <th>Vehicle Type</th>\n",
       "      <th>Standard or Express</th>\n",
       "      <th>Platform</th>\n",
       "      <th>Cancel Reason</th>\n",
       "      <th>Cancelled by</th>\n",
       "      <th>Placement Day</th>\n",
       "      <th>Placement Time</th>\n",
       "      <th>Confirmation Day</th>\n",
       "      <th>Confirmation Time</th>\n",
       "      <th>Cancellation Day</th>\n",
       "      <th>Cancellation Time</th>\n",
       "      <th>Distance (KM)</th>\n",
       "      <th>Pickup Lat</th>\n",
       "      <th>Pickup Long</th>\n",
       "      <th>scheduled</th>\n",
       "    </tr>\n",
       "  </thead>\n",
       "  <tbody>\n",
       "    <tr>\n",
       "      <th>1272</th>\n",
       "      <td>Business</td>\n",
       "      <td>10036.0</td>\n",
       "      <td>Bike</td>\n",
       "      <td>NaN</td>\n",
       "      <td>desktop</td>\n",
       "      <td>No driver has been allocated to my request.</td>\n",
       "      <td>Customer</td>\n",
       "      <td>2.0</td>\n",
       "      <td>08:12:13</td>\n",
       "      <td>2.0</td>\n",
       "      <td>08:13:14</td>\n",
       "      <td>2.0</td>\n",
       "      <td>08:22:25</td>\n",
       "      <td>17.0</td>\n",
       "      <td>-1.297723</td>\n",
       "      <td>36.783937</td>\n",
       "      <td>OnDemAND</td>\n",
       "    </tr>\n",
       "    <tr>\n",
       "      <th>1870</th>\n",
       "      <td>Business</td>\n",
       "      <td>10036.0</td>\n",
       "      <td>Bike</td>\n",
       "      <td>NaN</td>\n",
       "      <td>desktop</td>\n",
       "      <td>I placed the wrong locations.</td>\n",
       "      <td>Customer</td>\n",
       "      <td>2.0</td>\n",
       "      <td>09:38:28</td>\n",
       "      <td>NaN</td>\n",
       "      <td>NaN</td>\n",
       "      <td>2.0</td>\n",
       "      <td>09:38:52</td>\n",
       "      <td>5.0</td>\n",
       "      <td>-1.299734</td>\n",
       "      <td>36.766313</td>\n",
       "      <td>OnDemAND</td>\n",
       "    </tr>\n",
       "    <tr>\n",
       "      <th>2806</th>\n",
       "      <td>Business</td>\n",
       "      <td>10036.0</td>\n",
       "      <td>Bike</td>\n",
       "      <td>NaN</td>\n",
       "      <td>desktop</td>\n",
       "      <td>My order is not ready.</td>\n",
       "      <td>Customer</td>\n",
       "      <td>3.0</td>\n",
       "      <td>08:02:01</td>\n",
       "      <td>3.0</td>\n",
       "      <td>08:02:30</td>\n",
       "      <td>3.0</td>\n",
       "      <td>08:08:08</td>\n",
       "      <td>4.0</td>\n",
       "      <td>-1.264832</td>\n",
       "      <td>36.787344</td>\n",
       "      <td>OnDemAND</td>\n",
       "    </tr>\n",
       "    <tr>\n",
       "      <th>3047</th>\n",
       "      <td>Business</td>\n",
       "      <td>10036.0</td>\n",
       "      <td>Bike</td>\n",
       "      <td>NaN</td>\n",
       "      <td>desktop</td>\n",
       "      <td>My order is not ready.</td>\n",
       "      <td>Customer</td>\n",
       "      <td>4.0</td>\n",
       "      <td>16:21:34</td>\n",
       "      <td>4.0</td>\n",
       "      <td>16:25:08</td>\n",
       "      <td>4.0</td>\n",
       "      <td>16:51:49</td>\n",
       "      <td>9.0</td>\n",
       "      <td>-1.298123</td>\n",
       "      <td>36.783337</td>\n",
       "      <td>OnDemAND</td>\n",
       "    </tr>\n",
       "    <tr>\n",
       "      <th>3526</th>\n",
       "      <td>Business</td>\n",
       "      <td>10036.0</td>\n",
       "      <td>Bike</td>\n",
       "      <td>Standard</td>\n",
       "      <td>android</td>\n",
       "      <td>My order is not ready.</td>\n",
       "      <td>Customer</td>\n",
       "      <td>4.0</td>\n",
       "      <td>14:27:34</td>\n",
       "      <td>NaN</td>\n",
       "      <td>NaN</td>\n",
       "      <td>4.0</td>\n",
       "      <td>14:41:51</td>\n",
       "      <td>15.0</td>\n",
       "      <td>-1.298123</td>\n",
       "      <td>36.778537</td>\n",
       "      <td>OnDemAND</td>\n",
       "    </tr>\n",
       "    <tr>\n",
       "      <th>4325</th>\n",
       "      <td>Business</td>\n",
       "      <td>10036.0</td>\n",
       "      <td>Bike</td>\n",
       "      <td>NaN</td>\n",
       "      <td>desktop</td>\n",
       "      <td>No driver has been allocated to my request.</td>\n",
       "      <td>Customer</td>\n",
       "      <td>5.0</td>\n",
       "      <td>15:18:10</td>\n",
       "      <td>NaN</td>\n",
       "      <td>NaN</td>\n",
       "      <td>5.0</td>\n",
       "      <td>15:18:25</td>\n",
       "      <td>4.0</td>\n",
       "      <td>-1.289444</td>\n",
       "      <td>36.780726</td>\n",
       "      <td>OnDemAND</td>\n",
       "    </tr>\n",
       "  </tbody>\n",
       "</table>\n",
       "</div>"
      ],
      "text/plain": [
       "     Personal or Business  Business Number Vehicle Type Standard or Express  \\\n",
       "1272             Business          10036.0         Bike                 NaN   \n",
       "1870             Business          10036.0         Bike                 NaN   \n",
       "2806             Business          10036.0         Bike                 NaN   \n",
       "3047             Business          10036.0         Bike                 NaN   \n",
       "3526             Business          10036.0         Bike            Standard   \n",
       "4325             Business          10036.0         Bike                 NaN   \n",
       "\n",
       "     Platform                                Cancel Reason Cancelled by  \\\n",
       "1272  desktop  No driver has been allocated to my request.     Customer   \n",
       "1870  desktop                I placed the wrong locations.     Customer   \n",
       "2806  desktop                       My order is not ready.     Customer   \n",
       "3047  desktop                       My order is not ready.     Customer   \n",
       "3526  android                       My order is not ready.     Customer   \n",
       "4325  desktop  No driver has been allocated to my request.     Customer   \n",
       "\n",
       "      Placement Day Placement Time  Confirmation Day Confirmation Time  \\\n",
       "1272            2.0       08:12:13               2.0          08:13:14   \n",
       "1870            2.0       09:38:28               NaN               NaN   \n",
       "2806            3.0       08:02:01               3.0          08:02:30   \n",
       "3047            4.0       16:21:34               4.0          16:25:08   \n",
       "3526            4.0       14:27:34               NaN               NaN   \n",
       "4325            5.0       15:18:10               NaN               NaN   \n",
       "\n",
       "      Cancellation Day Cancellation Time  Distance (KM)  Pickup Lat  \\\n",
       "1272               2.0          08:22:25           17.0   -1.297723   \n",
       "1870               2.0          09:38:52            5.0   -1.299734   \n",
       "2806               3.0          08:08:08            4.0   -1.264832   \n",
       "3047               4.0          16:51:49            9.0   -1.298123   \n",
       "3526               4.0          14:41:51           15.0   -1.298123   \n",
       "4325               5.0          15:18:25            4.0   -1.289444   \n",
       "\n",
       "      Pickup Long scheduled  \n",
       "1272    36.783937  OnDemAND  \n",
       "1870    36.766313  OnDemAND  \n",
       "2806    36.787344  OnDemAND  \n",
       "3047    36.783337  OnDemAND  \n",
       "3526    36.778537  OnDemAND  \n",
       "4325    36.780726  OnDemAND  "
      ]
     },
     "execution_count": 7,
     "metadata": {},
     "output_type": "execute_result"
    }
   ],
   "source": [
    "df[df['Business Number'] == 10036.0]"
   ]
  },
  {
   "cell_type": "code",
   "execution_count": 12,
   "id": "e49396ed",
   "metadata": {},
   "outputs": [
    {
     "data": {
      "text/html": [
       "<div>\n",
       "<style scoped>\n",
       "    .dataframe tbody tr th:only-of-type {\n",
       "        vertical-align: middle;\n",
       "    }\n",
       "\n",
       "    .dataframe tbody tr th {\n",
       "        vertical-align: top;\n",
       "    }\n",
       "\n",
       "    .dataframe thead th {\n",
       "        text-align: right;\n",
       "    }\n",
       "</style>\n",
       "<table border=\"1\" class=\"dataframe\">\n",
       "  <thead>\n",
       "    <tr style=\"text-align: right;\">\n",
       "      <th></th>\n",
       "      <th>Personal or Business</th>\n",
       "      <th>Business Number</th>\n",
       "      <th>Vehicle Type</th>\n",
       "      <th>Standard or Express</th>\n",
       "      <th>Platform</th>\n",
       "      <th>Cancel Reason</th>\n",
       "      <th>Cancelled by</th>\n",
       "      <th>Placement Day</th>\n",
       "      <th>Placement Time</th>\n",
       "      <th>Confirmation Day</th>\n",
       "      <th>Confirmation Time</th>\n",
       "      <th>Cancellation Day</th>\n",
       "      <th>Cancellation Time</th>\n",
       "      <th>Distance (KM)</th>\n",
       "      <th>Pickup Lat</th>\n",
       "      <th>Pickup Long</th>\n",
       "      <th>scheduled</th>\n",
       "    </tr>\n",
       "  </thead>\n",
       "  <tbody>\n",
       "    <tr>\n",
       "      <th>1272</th>\n",
       "      <td>Business</td>\n",
       "      <td>10036.0</td>\n",
       "      <td>Bike</td>\n",
       "      <td>NaN</td>\n",
       "      <td>desktop</td>\n",
       "      <td>No driver has been allocated to my request.</td>\n",
       "      <td>Customer</td>\n",
       "      <td>2.0</td>\n",
       "      <td>08:12:13</td>\n",
       "      <td>2.0</td>\n",
       "      <td>08:13:14</td>\n",
       "      <td>2.0</td>\n",
       "      <td>08:22:25</td>\n",
       "      <td>17.0</td>\n",
       "      <td>-1.297723</td>\n",
       "      <td>36.783937</td>\n",
       "      <td>OnDemAND</td>\n",
       "    </tr>\n",
       "    <tr>\n",
       "      <th>1870</th>\n",
       "      <td>Business</td>\n",
       "      <td>10036.0</td>\n",
       "      <td>Bike</td>\n",
       "      <td>NaN</td>\n",
       "      <td>desktop</td>\n",
       "      <td>I placed the wrong locations.</td>\n",
       "      <td>Customer</td>\n",
       "      <td>2.0</td>\n",
       "      <td>09:38:28</td>\n",
       "      <td>NaN</td>\n",
       "      <td>NaN</td>\n",
       "      <td>2.0</td>\n",
       "      <td>09:38:52</td>\n",
       "      <td>5.0</td>\n",
       "      <td>-1.299734</td>\n",
       "      <td>36.766313</td>\n",
       "      <td>OnDemAND</td>\n",
       "    </tr>\n",
       "    <tr>\n",
       "      <th>2806</th>\n",
       "      <td>Business</td>\n",
       "      <td>10036.0</td>\n",
       "      <td>Bike</td>\n",
       "      <td>NaN</td>\n",
       "      <td>desktop</td>\n",
       "      <td>My order is not ready.</td>\n",
       "      <td>Customer</td>\n",
       "      <td>3.0</td>\n",
       "      <td>08:02:01</td>\n",
       "      <td>3.0</td>\n",
       "      <td>08:02:30</td>\n",
       "      <td>3.0</td>\n",
       "      <td>08:08:08</td>\n",
       "      <td>4.0</td>\n",
       "      <td>-1.264832</td>\n",
       "      <td>36.787344</td>\n",
       "      <td>OnDemAND</td>\n",
       "    </tr>\n",
       "    <tr>\n",
       "      <th>3047</th>\n",
       "      <td>Business</td>\n",
       "      <td>10036.0</td>\n",
       "      <td>Bike</td>\n",
       "      <td>NaN</td>\n",
       "      <td>desktop</td>\n",
       "      <td>My order is not ready.</td>\n",
       "      <td>Customer</td>\n",
       "      <td>4.0</td>\n",
       "      <td>16:21:34</td>\n",
       "      <td>4.0</td>\n",
       "      <td>16:25:08</td>\n",
       "      <td>4.0</td>\n",
       "      <td>16:51:49</td>\n",
       "      <td>9.0</td>\n",
       "      <td>-1.298123</td>\n",
       "      <td>36.783337</td>\n",
       "      <td>OnDemAND</td>\n",
       "    </tr>\n",
       "    <tr>\n",
       "      <th>4325</th>\n",
       "      <td>Business</td>\n",
       "      <td>10036.0</td>\n",
       "      <td>Bike</td>\n",
       "      <td>NaN</td>\n",
       "      <td>desktop</td>\n",
       "      <td>No driver has been allocated to my request.</td>\n",
       "      <td>Customer</td>\n",
       "      <td>5.0</td>\n",
       "      <td>15:18:10</td>\n",
       "      <td>NaN</td>\n",
       "      <td>NaN</td>\n",
       "      <td>5.0</td>\n",
       "      <td>15:18:25</td>\n",
       "      <td>4.0</td>\n",
       "      <td>-1.289444</td>\n",
       "      <td>36.780726</td>\n",
       "      <td>OnDemAND</td>\n",
       "    </tr>\n",
       "  </tbody>\n",
       "</table>\n",
       "</div>"
      ],
      "text/plain": [
       "     Personal or Business  Business Number Vehicle Type Standard or Express  \\\n",
       "1272             Business          10036.0         Bike                 NaN   \n",
       "1870             Business          10036.0         Bike                 NaN   \n",
       "2806             Business          10036.0         Bike                 NaN   \n",
       "3047             Business          10036.0         Bike                 NaN   \n",
       "4325             Business          10036.0         Bike                 NaN   \n",
       "\n",
       "     Platform                                Cancel Reason Cancelled by  \\\n",
       "1272  desktop  No driver has been allocated to my request.     Customer   \n",
       "1870  desktop                I placed the wrong locations.     Customer   \n",
       "2806  desktop                       My order is not ready.     Customer   \n",
       "3047  desktop                       My order is not ready.     Customer   \n",
       "4325  desktop  No driver has been allocated to my request.     Customer   \n",
       "\n",
       "      Placement Day Placement Time  Confirmation Day Confirmation Time  \\\n",
       "1272            2.0       08:12:13               2.0          08:13:14   \n",
       "1870            2.0       09:38:28               NaN               NaN   \n",
       "2806            3.0       08:02:01               3.0          08:02:30   \n",
       "3047            4.0       16:21:34               4.0          16:25:08   \n",
       "4325            5.0       15:18:10               NaN               NaN   \n",
       "\n",
       "      Cancellation Day Cancellation Time  Distance (KM)  Pickup Lat  \\\n",
       "1272               2.0          08:22:25           17.0   -1.297723   \n",
       "1870               2.0          09:38:52            5.0   -1.299734   \n",
       "2806               3.0          08:08:08            4.0   -1.264832   \n",
       "3047               4.0          16:51:49            9.0   -1.298123   \n",
       "4325               5.0          15:18:25            4.0   -1.289444   \n",
       "\n",
       "      Pickup Long scheduled  \n",
       "1272    36.783937  OnDemAND  \n",
       "1870    36.766313  OnDemAND  \n",
       "2806    36.787344  OnDemAND  \n",
       "3047    36.783337  OnDemAND  \n",
       "4325    36.780726  OnDemAND  "
      ]
     },
     "execution_count": 12,
     "metadata": {},
     "output_type": "execute_result"
    }
   ],
   "source": [
    "df[df['Standard or Express'].isna()]"
   ]
  },
  {
   "cell_type": "code",
   "execution_count": 13,
   "id": "a4dbeb06",
   "metadata": {},
   "outputs": [
    {
     "data": {
      "text/plain": [
       "5507    2061.0\n",
       "5524    1731.0\n",
       "4263    1600.0\n",
       "6112    1111.0\n",
       "4305     562.0\n",
       "5500     504.0\n",
       "5495     347.0\n",
       "344      264.0\n",
       "356      264.0\n",
       "4343     255.0\n",
       "Name: Distance (KM), dtype: float64"
      ]
     },
     "execution_count": 13,
     "metadata": {},
     "output_type": "execute_result"
    }
   ],
   "source": [
    "# distance km columns may have some outliers\n",
    "df['Distance (KM)'].nlargest(10)"
   ]
  },
  {
   "cell_type": "code",
   "execution_count": 6,
   "id": "e3fa6b61",
   "metadata": {},
   "outputs": [
    {
     "data": {
      "text/html": [
       "<div>\n",
       "<style scoped>\n",
       "    .dataframe tbody tr th:only-of-type {\n",
       "        vertical-align: middle;\n",
       "    }\n",
       "\n",
       "    .dataframe tbody tr th {\n",
       "        vertical-align: top;\n",
       "    }\n",
       "\n",
       "    .dataframe thead th {\n",
       "        text-align: right;\n",
       "    }\n",
       "</style>\n",
       "<table border=\"1\" class=\"dataframe\">\n",
       "  <thead>\n",
       "    <tr style=\"text-align: right;\">\n",
       "      <th></th>\n",
       "      <th>Personal or Business</th>\n",
       "      <th>Business Number</th>\n",
       "      <th>Vehicle Type</th>\n",
       "      <th>Standard or Express</th>\n",
       "      <th>Platform</th>\n",
       "      <th>Cancel Reason</th>\n",
       "      <th>Cancelled by</th>\n",
       "      <th>Placement Day</th>\n",
       "      <th>Placement Time</th>\n",
       "      <th>Confirmation Day</th>\n",
       "      <th>Confirmation Time</th>\n",
       "      <th>Cancellation Day</th>\n",
       "      <th>Cancellation Time</th>\n",
       "      <th>Distance (KM)</th>\n",
       "      <th>Pickup Lat</th>\n",
       "      <th>Pickup Long</th>\n",
       "      <th>scheduled</th>\n",
       "    </tr>\n",
       "  </thead>\n",
       "  <tbody>\n",
       "    <tr>\n",
       "      <th>5507</th>\n",
       "      <td>Personal</td>\n",
       "      <td>NaN</td>\n",
       "      <td>Bike</td>\n",
       "      <td>Express</td>\n",
       "      <td>android</td>\n",
       "      <td>The driver is too far away.</td>\n",
       "      <td>Customer</td>\n",
       "      <td>6.0</td>\n",
       "      <td>21:21:49</td>\n",
       "      <td>6.0</td>\n",
       "      <td>21:21:55</td>\n",
       "      <td>6.0</td>\n",
       "      <td>21:25:04</td>\n",
       "      <td>2061.0</td>\n",
       "      <td>-1.275599</td>\n",
       "      <td>36.808875</td>\n",
       "      <td>OnDemAND</td>\n",
       "    </tr>\n",
       "    <tr>\n",
       "      <th>5524</th>\n",
       "      <td>Personal</td>\n",
       "      <td>NaN</td>\n",
       "      <td>Bike</td>\n",
       "      <td>Express</td>\n",
       "      <td>android</td>\n",
       "      <td>The driver is too far away.</td>\n",
       "      <td>Customer</td>\n",
       "      <td>6.0</td>\n",
       "      <td>17:04:31</td>\n",
       "      <td>6.0</td>\n",
       "      <td>17:06:13</td>\n",
       "      <td>6.0</td>\n",
       "      <td>17:06:57</td>\n",
       "      <td>1731.0</td>\n",
       "      <td>-1.262857</td>\n",
       "      <td>36.785555</td>\n",
       "      <td>OnDemAND</td>\n",
       "    </tr>\n",
       "    <tr>\n",
       "      <th>4263</th>\n",
       "      <td>Personal</td>\n",
       "      <td>NaN</td>\n",
       "      <td>Bike</td>\n",
       "      <td>Express</td>\n",
       "      <td>android</td>\n",
       "      <td>The driver is too far away.</td>\n",
       "      <td>Customer</td>\n",
       "      <td>5.0</td>\n",
       "      <td>13:17:13</td>\n",
       "      <td>5.0</td>\n",
       "      <td>13:17:19</td>\n",
       "      <td>5.0</td>\n",
       "      <td>13:17:29</td>\n",
       "      <td>1600.0</td>\n",
       "      <td>-1.264546</td>\n",
       "      <td>36.791727</td>\n",
       "      <td>OnDemAND</td>\n",
       "    </tr>\n",
       "    <tr>\n",
       "      <th>6112</th>\n",
       "      <td>Personal</td>\n",
       "      <td>NaN</td>\n",
       "      <td>Bike</td>\n",
       "      <td>Express</td>\n",
       "      <td>android</td>\n",
       "      <td>No driver has been allocated to my request.</td>\n",
       "      <td>Customer</td>\n",
       "      <td>7.0</td>\n",
       "      <td>23:37:45</td>\n",
       "      <td>7.0</td>\n",
       "      <td>23:39:08</td>\n",
       "      <td>7.0</td>\n",
       "      <td>23:39:16</td>\n",
       "      <td>1111.0</td>\n",
       "      <td>-1.282392</td>\n",
       "      <td>36.747675</td>\n",
       "      <td>OnDemAND</td>\n",
       "    </tr>\n",
       "    <tr>\n",
       "      <th>4305</th>\n",
       "      <td>Personal</td>\n",
       "      <td>NaN</td>\n",
       "      <td>Bike</td>\n",
       "      <td>Express</td>\n",
       "      <td>android</td>\n",
       "      <td>My order is not ready.</td>\n",
       "      <td>Customer</td>\n",
       "      <td>5.0</td>\n",
       "      <td>13:20:14</td>\n",
       "      <td>5.0</td>\n",
       "      <td>13:20:34</td>\n",
       "      <td>5.0</td>\n",
       "      <td>13:20:39</td>\n",
       "      <td>562.0</td>\n",
       "      <td>-1.255246</td>\n",
       "      <td>36.792627</td>\n",
       "      <td>OnDemAND</td>\n",
       "    </tr>\n",
       "    <tr>\n",
       "      <th>5500</th>\n",
       "      <td>Personal</td>\n",
       "      <td>NaN</td>\n",
       "      <td>Bike</td>\n",
       "      <td>Express</td>\n",
       "      <td>android</td>\n",
       "      <td>The driver is too far away.</td>\n",
       "      <td>Customer</td>\n",
       "      <td>6.0</td>\n",
       "      <td>17:02:02</td>\n",
       "      <td>6.0</td>\n",
       "      <td>17:02:27</td>\n",
       "      <td>6.0</td>\n",
       "      <td>17:02:47</td>\n",
       "      <td>504.0</td>\n",
       "      <td>-1.260646</td>\n",
       "      <td>36.795327</td>\n",
       "      <td>OnDemAND</td>\n",
       "    </tr>\n",
       "  </tbody>\n",
       "</table>\n",
       "</div>"
      ],
      "text/plain": [
       "     Personal or Business  Business Number Vehicle Type Standard or Express  \\\n",
       "5507             Personal              NaN         Bike             Express   \n",
       "5524             Personal              NaN         Bike             Express   \n",
       "4263             Personal              NaN         Bike             Express   \n",
       "6112             Personal              NaN         Bike             Express   \n",
       "4305             Personal              NaN         Bike             Express   \n",
       "5500             Personal              NaN         Bike             Express   \n",
       "\n",
       "     Platform                                Cancel Reason Cancelled by  \\\n",
       "5507  android                  The driver is too far away.     Customer   \n",
       "5524  android                  The driver is too far away.     Customer   \n",
       "4263  android                  The driver is too far away.     Customer   \n",
       "6112  android  No driver has been allocated to my request.     Customer   \n",
       "4305  android                       My order is not ready.     Customer   \n",
       "5500  android                  The driver is too far away.     Customer   \n",
       "\n",
       "      Placement Day Placement Time  Confirmation Day Confirmation Time  \\\n",
       "5507            6.0       21:21:49               6.0          21:21:55   \n",
       "5524            6.0       17:04:31               6.0          17:06:13   \n",
       "4263            5.0       13:17:13               5.0          13:17:19   \n",
       "6112            7.0       23:37:45               7.0          23:39:08   \n",
       "4305            5.0       13:20:14               5.0          13:20:34   \n",
       "5500            6.0       17:02:02               6.0          17:02:27   \n",
       "\n",
       "      Cancellation Day Cancellation Time  Distance (KM)  Pickup Lat  \\\n",
       "5507               6.0          21:25:04         2061.0   -1.275599   \n",
       "5524               6.0          17:06:57         1731.0   -1.262857   \n",
       "4263               5.0          13:17:29         1600.0   -1.264546   \n",
       "6112               7.0          23:39:16         1111.0   -1.282392   \n",
       "4305               5.0          13:20:39          562.0   -1.255246   \n",
       "5500               6.0          17:02:47          504.0   -1.260646   \n",
       "\n",
       "      Pickup Long scheduled  \n",
       "5507    36.808875  OnDemAND  \n",
       "5524    36.785555  OnDemAND  \n",
       "4263    36.791727  OnDemAND  \n",
       "6112    36.747675  OnDemAND  \n",
       "4305    36.792627  OnDemAND  \n",
       "5500    36.795327  OnDemAND  "
      ]
     },
     "execution_count": 6,
     "metadata": {},
     "output_type": "execute_result"
    }
   ],
   "source": [
    "df[df['Distance (KM)'] > 500].sort_values(by='Distance (KM)', ascending=False)"
   ]
  },
  {
   "cell_type": "code",
   "execution_count": 22,
   "id": "c973afc0",
   "metadata": {},
   "outputs": [
    {
     "data": {
      "text/plain": [
       "No driver has been allocated to my request.    0.277430\n",
       "No Partner                                     0.202094\n",
       "My order is not ready.                         0.189747\n",
       "I placed the wrong locations.                  0.174117\n",
       "The driver is too far away.                    0.092842\n",
       "Customer error                                 0.052673\n",
       "Delay                                          0.011097\n",
       "Name: Cancel Reason, dtype: float64"
      ]
     },
     "execution_count": 22,
     "metadata": {},
     "output_type": "execute_result"
    }
   ],
   "source": [
    "df['Cancel Reason'].value_counts(normalize=True)"
   ]
  },
  {
   "cell_type": "code",
   "execution_count": 137,
   "id": "f54c993b",
   "metadata": {},
   "outputs": [
    {
     "data": {
      "image/png": "[encoded data removed]",
      "text/plain": [
       "<Figure size 720x432 with 1 Axes>"
      ]
     },
     "metadata": {},
     "output_type": "display_data"
    }
   ],
   "source": [
    "plt.style.use('seaborn-dark-palette')\n",
    "fig = plt.figure(figsize=(10,6))\n",
    "font = {'family': 'serif',\n",
    "        'color':  'teal',\n",
    "        'weight': 'bold',\n",
    "        'size': 18,\n",
    "        }\n",
    "\n",
    "ax = df.groupby('Cancel Reason')['Cancelled by'].count().sort_values(ascending=False).plot.bar(ylim=0)\n",
    "ax.set_title('Order Cancellations',fontdict=font)\n",
    "ax.set_ylabel('Number of Cancellations',fontsize=16,fontweight='bold')\n",
    "ax.set_xlabel('Cancel Reason',fontsize=16,fontweight='bold')\n",
    "fig1=plt.gcf()\n",
    "fig1.savefig('cancel_reason_sorted.png',dpi=100)\n",
    "plt.show()\n"
   ]
  },
  {
   "cell_type": "code",
   "execution_count": 7,
   "id": "55ce04c3",
   "metadata": {},
   "outputs": [],
   "source": [
    "df_cancel_grp = df.groupby(['Cancel Reason'])"
   ]
  },
  {
   "cell_type": "code",
   "execution_count": 8,
   "id": "a9d73af5",
   "metadata": {},
   "outputs": [
    {
     "data": {
      "text/plain": [
       "Cancel Reason\n",
       "Customer error                                  8.626113\n",
       "Delay                                          11.126761\n",
       "I placed the wrong locations.                  15.113106\n",
       "My order is not ready.                         13.088138\n",
       "No Partner                                     10.560712\n",
       "No driver has been allocated to my request.    13.594930\n",
       "The driver is too far away.                    25.069024\n",
       "Name: Distance (KM), dtype: float64"
      ]
     },
     "execution_count": 8,
     "metadata": {},
     "output_type": "execute_result"
    }
   ],
   "source": [
    "df_cancel_grp['Distance (KM)'].mean()"
   ]
  },
  {
   "cell_type": "code",
   "execution_count": 134,
   "id": "77966489",
   "metadata": {},
   "outputs": [
    {
     "data": {
      "image/png": "[encoded data removed]",
      "text/plain": [
       "<Figure size 720x432 with 1 Axes>"
      ]
     },
     "metadata": {},
     "output_type": "display_data"
    }
   ],
   "source": [
    "dist_grp = df_cancel_grp['Distance (KM)'].mean().sort_values()\n",
    "\n",
    "plt.style.use('seaborn-pastel')\n",
    "fig = plt.figure(figsize=(10,6))\n",
    "ax = dist_grp.plot.barh(color='teal')\n",
    "ax.set_title('Cancellations by Distance (KM)',fontsize=20,fontweight='bold')\n",
    "ax.set_ylabel('Cancel Reason',fontsize=16,fontweight='bold')\n",
    "ax.set_xlabel('Distance (KM)',fontsize=16,fontweight='bold')\n",
    "plt.grid(False)\n",
    "plt.savefig('cancellations_distance.jpg')\n",
    "#plt.show()\n"
   ]
  },
  {
   "cell_type": "code",
   "execution_count": 27,
   "id": "457a836f",
   "metadata": {},
   "outputs": [
    {
     "data": {
      "text/plain": [
       "Cancel Reason                                scheduled\n",
       "Customer error                               OnDemAND     0.952522\n",
       "                                             Scheduled    0.047478\n",
       "Delay                                        OnDemAND     0.845070\n",
       "                                             Scheduled    0.154930\n",
       "I placed the wrong locations.                OnDemAND     0.970377\n",
       "                                             Scheduled    0.029623\n",
       "My order is not ready.                       OnDemAND     0.972817\n",
       "                                             Scheduled    0.027183\n",
       "No Partner                                   OnDemAND     0.917247\n",
       "                                             Scheduled    0.082753\n",
       "No driver has been allocated to my request.  OnDemAND     0.978028\n",
       "                                             Scheduled    0.021972\n",
       "The driver is too far away.                  OnDemAND     0.986532\n",
       "                                             Scheduled    0.013468\n",
       "Name: scheduled, dtype: float64"
      ]
     },
     "execution_count": 27,
     "metadata": {},
     "output_type": "execute_result"
    }
   ],
   "source": [
    "df_cancel_grp['scheduled'].value_counts(normalize=True)"
   ]
  },
  {
   "cell_type": "code",
   "execution_count": 32,
   "id": "13109940",
   "metadata": {},
   "outputs": [
    {
     "data": {
      "text/plain": [
       "OnDemAND     0.961394\n",
       "Scheduled    0.038606\n",
       "Name: scheduled, dtype: float64"
      ]
     },
     "execution_count": 32,
     "metadata": {},
     "output_type": "execute_result"
    }
   ],
   "source": [
    "df['scheduled'].value_counts(normalize=True) # 96 percent of cancellations are for OnDemAND orders"
   ]
  },
  {
   "cell_type": "code",
   "execution_count": 13,
   "id": "9a9f17b9",
   "metadata": {},
   "outputs": [],
   "source": [
    "# group by scheduled to see how the scheduled column affects cancellation\n",
    "df_scheduled_grp = df.groupby(['scheduled'])"
   ]
  },
  {
   "cell_type": "code",
   "execution_count": 19,
   "id": "afccb855",
   "metadata": {},
   "outputs": [
    {
     "data": {
      "text/plain": [
       "scheduled  Cancel Reason                              \n",
       "OnDemAND   No driver has been allocated to my request.    0.282231\n",
       "           No Partner                                     0.192814\n",
       "           My order is not ready.                         0.192001\n",
       "           I placed the wrong locations.                  0.175744\n",
       "           The driver is too far away.                    0.095269\n",
       "           Customer error                                 0.052187\n",
       "           Delay                                          0.009755\n",
       "Scheduled  No Partner                                     0.433198\n",
       "           No driver has been allocated to my request.    0.157895\n",
       "           I placed the wrong locations.                  0.133603\n",
       "           My order is not ready.                         0.133603\n",
       "           Customer error                                 0.064777\n",
       "           Delay                                          0.044534\n",
       "           The driver is too far away.                    0.032389\n",
       "Name: Cancel Reason, dtype: float64"
      ]
     },
     "execution_count": 19,
     "metadata": {},
     "output_type": "execute_result"
    }
   ],
   "source": [
    "df_scheduled_grp['Cancel Reason'].value_counts(normalize=True)"
   ]
  },
  {
   "cell_type": "code",
   "execution_count": null,
   "id": "60948478",
   "metadata": {},
   "outputs": [],
   "source": []
  },
  {
   "cell_type": "code",
   "execution_count": 37,
   "id": "13193046",
   "metadata": {},
   "outputs": [
    {
     "data": {
      "text/plain": [
       "Personal or Business\n",
       "Personal                0.5211\n",
       "Business                0.4789\n",
       "dtype: float64"
      ]
     },
     "execution_count": 37,
     "metadata": {},
     "output_type": "execute_result"
    }
   ],
   "source": [
    "df[['Personal or Business']].value_counts(normalize=True)"
   ]
  },
  {
   "cell_type": "code",
   "execution_count": 39,
   "id": "5ec8e3ca",
   "metadata": {},
   "outputs": [
    {
     "data": {
      "text/plain": [
       "Express     0.627718\n",
       "Standard    0.372282\n",
       "Name: Standard or Express, dtype: float64"
      ]
     },
     "execution_count": 39,
     "metadata": {},
     "output_type": "execute_result"
    }
   ],
   "source": [
    "df['Standard or Express'].value_counts(normalize=True) # 63% of cancellations are from Express orders"
   ]
  },
  {
   "cell_type": "code",
   "execution_count": 40,
   "id": "9970452a",
   "metadata": {},
   "outputs": [],
   "source": [
    "df_std_xprs_grp = df.groupby(['Standard or Express'])"
   ]
  },
  {
   "cell_type": "code",
   "execution_count": 43,
   "id": "1128a336",
   "metadata": {},
   "outputs": [
    {
     "data": {
      "text/plain": [
       "Standard or Express  Cancel Reason                              \n",
       "Express              No driver has been allocated to my request.    0.244206\n",
       "                     My order is not ready.                         0.212808\n",
       "                     No Partner                                     0.201844\n",
       "                     I placed the wrong locations.                  0.193870\n",
       "                     The driver is too far away.                    0.078246\n",
       "                     Customer error                                 0.061052\n",
       "                     Delay                                          0.007974\n",
       "Standard             No driver has been allocated to my request.    0.333193\n",
       "                     No Partner                                     0.202941\n",
       "                     My order is not ready.                         0.150420\n",
       "                     I placed the wrong locations.                  0.140756\n",
       "                     The driver is too far away.                    0.117647\n",
       "                     Customer error                                 0.038655\n",
       "                     Delay                                          0.016387\n",
       "Name: Cancel Reason, dtype: float64"
      ]
     },
     "execution_count": 43,
     "metadata": {},
     "output_type": "execute_result"
    }
   ],
   "source": [
    "df_std_xprs_grp['Cancel Reason'].value_counts(normalize=True)"
   ]
  },
  {
   "cell_type": "code",
   "execution_count": 169,
   "id": "4081d165",
   "metadata": {},
   "outputs": [
    {
     "data": {
      "text/plain": [
       "Platform  Cancel Reason                              \n",
       "API       No Partner                                     0.718220\n",
       "          Customer error                                 0.273305\n",
       "          Delay                                          0.006356\n",
       "          No driver has been allocated to my request.    0.002119\n",
       "android   No driver has been allocated to my request.    0.306346\n",
       "          I placed the wrong locations.                  0.188913\n",
       "          My order is not ready.                         0.183807\n",
       "          The driver is too far away.                    0.171408\n",
       "          No Partner                                     0.117797\n",
       "          Customer error                                 0.025164\n",
       "          Delay                                          0.006565\n",
       "desktop   No driver has been allocated to my request.    0.284457\n",
       "          My order is not ready.                         0.234604\n",
       "          No Partner                                     0.216590\n",
       "          I placed the wrong locations.                  0.197319\n",
       "          Customer error                                 0.048597\n",
       "          Delay                                          0.014244\n",
       "          The driver is too far away.                    0.004189\n",
       "ios       No driver has been allocated to my request.    0.320352\n",
       "          My order is not ready.                         0.188442\n",
       "          I placed the wrong locations.                  0.155779\n",
       "          No Partner                                     0.143216\n",
       "          The driver is too far away.                    0.143216\n",
       "          Customer error                                 0.028894\n",
       "          Delay                                          0.020101\n",
       "peer_web  I placed the wrong locations.                  1.000000\n",
       "Name: Cancel Reason, dtype: float64"
      ]
     },
     "execution_count": 169,
     "metadata": {},
     "output_type": "execute_result"
    }
   ],
   "source": [
    "df.groupby(['Platform'])['Cancel Reason'].value_counts(normalize=True)"
   ]
  },
  {
   "cell_type": "code",
   "execution_count": 45,
   "id": "5b6c0b64",
   "metadata": {},
   "outputs": [
    {
     "data": {
      "text/plain": [
       "Customer    0.734136\n",
       "Staff       0.265864\n",
       "Name: Cancelled by, dtype: float64"
      ]
     },
     "execution_count": 45,
     "metadata": {},
     "output_type": "execute_result"
    }
   ],
   "source": [
    "df['Cancelled by'].value_counts(normalize=True)"
   ]
  },
  {
   "cell_type": "code",
   "execution_count": 46,
   "id": "38b28297",
   "metadata": {},
   "outputs": [],
   "source": [
    "df_cancel_by_grp = df.groupby(['Cancelled by'])"
   ]
  },
  {
   "cell_type": "code",
   "execution_count": 48,
   "id": "768df64c",
   "metadata": {},
   "outputs": [
    {
     "data": {
      "text/plain": [
       "Cancelled by  Cancel Reason                              \n",
       "Customer      No driver has been allocated to my request.    1775\n",
       "              My order is not ready.                         1214\n",
       "              I placed the wrong locations.                  1114\n",
       "              The driver is too far away.                     594\n",
       "Staff         No Partner                                     1293\n",
       "              Customer error                                  337\n",
       "              Delay                                            71\n",
       "Name: Cancel Reason, dtype: int64"
      ]
     },
     "execution_count": 48,
     "metadata": {},
     "output_type": "execute_result"
    }
   ],
   "source": [
    "df_cancel_by_grp['Cancel Reason'].value_counts()"
   ]
  },
  {
   "cell_type": "code",
   "execution_count": 24,
   "id": "848493a9",
   "metadata": {},
   "outputs": [
    {
     "data": {
      "text/html": [
       "<div>\n",
       "<style scoped>\n",
       "    .dataframe tbody tr th:only-of-type {\n",
       "        vertical-align: middle;\n",
       "    }\n",
       "\n",
       "    .dataframe tbody tr th {\n",
       "        vertical-align: top;\n",
       "    }\n",
       "\n",
       "    .dataframe thead tr th {\n",
       "        text-align: left;\n",
       "    }\n",
       "\n",
       "    .dataframe thead tr:last-of-type th {\n",
       "        text-align: right;\n",
       "    }\n",
       "</style>\n",
       "<table border=\"1\" class=\"dataframe\">\n",
       "  <thead>\n",
       "    <tr>\n",
       "      <th></th>\n",
       "      <th colspan=\"7\" halign=\"left\">count</th>\n",
       "    </tr>\n",
       "    <tr>\n",
       "      <th>Cancel Reason</th>\n",
       "      <th>Customer error</th>\n",
       "      <th>Delay</th>\n",
       "      <th>I placed the wrong locations.</th>\n",
       "      <th>My order is not ready.</th>\n",
       "      <th>No Partner</th>\n",
       "      <th>No driver has been allocated to my request.</th>\n",
       "      <th>The driver is too far away.</th>\n",
       "    </tr>\n",
       "    <tr>\n",
       "      <th>Cancelled by</th>\n",
       "      <th></th>\n",
       "      <th></th>\n",
       "      <th></th>\n",
       "      <th></th>\n",
       "      <th></th>\n",
       "      <th></th>\n",
       "      <th></th>\n",
       "    </tr>\n",
       "  </thead>\n",
       "  <tbody>\n",
       "    <tr>\n",
       "      <th>Customer</th>\n",
       "      <td>0</td>\n",
       "      <td>0</td>\n",
       "      <td>1114</td>\n",
       "      <td>1214</td>\n",
       "      <td>0</td>\n",
       "      <td>1775</td>\n",
       "      <td>594</td>\n",
       "    </tr>\n",
       "    <tr>\n",
       "      <th>Staff</th>\n",
       "      <td>337</td>\n",
       "      <td>71</td>\n",
       "      <td>0</td>\n",
       "      <td>0</td>\n",
       "      <td>1293</td>\n",
       "      <td>0</td>\n",
       "      <td>0</td>\n",
       "    </tr>\n",
       "  </tbody>\n",
       "</table>\n",
       "</div>"
      ],
      "text/plain": [
       "                       count                                      \\\n",
       "Cancel Reason Customer error Delay I placed the wrong locations.   \n",
       "Cancelled by                                                       \n",
       "Customer                   0     0                          1114   \n",
       "Staff                    337    71                             0   \n",
       "\n",
       "                                                 \\\n",
       "Cancel Reason My order is not ready. No Partner   \n",
       "Cancelled by                                      \n",
       "Customer                        1214          0   \n",
       "Staff                              0       1293   \n",
       "\n",
       "                                                           \\\n",
       "Cancel Reason No driver has been allocated to my request.   \n",
       "Cancelled by                                                \n",
       "Customer                                             1775   \n",
       "Staff                                                   0   \n",
       "\n",
       "                                           \n",
       "Cancel Reason The driver is too far away.  \n",
       "Cancelled by                               \n",
       "Customer                              594  \n",
       "Staff                                   0  "
      ]
     },
     "execution_count": 24,
     "metadata": {},
     "output_type": "execute_result"
    }
   ],
   "source": [
    "cancel_table = pd.pivot_table(data=df[['Cancelled by','Cancel Reason']].groupby(['Cancelled by'])['Cancel Reason'].value_counts().reset_index(name='count'),index=['Cancelled by'], columns='Cancel Reason',fill_value=0)\n",
    "cancel_table"
   ]
  },
  {
   "cell_type": "code",
   "execution_count": 167,
   "id": "a8ec59af",
   "metadata": {
    "scrolled": true
   },
   "outputs": [
    {
     "data": {
      "image/png": "[encoded data removed]",
      "text/plain": [
       "<Figure size 1152x864 with 1 Axes>"
      ]
     },
     "metadata": {},
     "output_type": "display_data"
    }
   ],
   "source": [
    "import matplotlib.colors as mcolors\n",
    "plt.style.use('seaborn-paper')\n",
    "ax = cancel_table.plot(kind='bar',figsize=(16,12),fontsize=15,color=tab_cols)\n",
    "\n",
    "ax.set_title('Cancellations',fontsize=20,fontweight='bold')\n",
    "ax.set_ylabel('Number of Cancellations',fontsize=16,fontweight='bold')\n",
    "ax.set_xlabel('Cancel Reason',fontsize=16,fontweight='bold')\n",
    "\n",
    "L=ax.legend(fontsize=14)\n",
    "L.set_title('Type of Claim',prop={'size':12})\n",
    "L.get_texts()[0].set_text('Customer Error')\n",
    "L.get_texts()[1].set_text('Delay')\n",
    "L.get_texts()[2].set_text('I placed the wrong locations')\n",
    "L.get_texts()[3].set_text('My order is not ready')\n",
    "L.get_texts()[4].set_text('No Partner')\n",
    "L.get_texts()[5].set_text('No driver has been allocated to my request')\n",
    "L.get_texts()[6].set_text('The driver is too far away')\n",
    "plt.savefig('somestuff.png')"
   ]
  },
  {
   "cell_type": "code",
   "execution_count": 80,
   "id": "fddbe4dc",
   "metadata": {},
   "outputs": [],
   "source": [
    "tab_cols = list(mcolors.TABLEAU_COLORS.values())\n",
    "tab_cols.reverse()"
   ]
  },
  {
   "cell_type": "code",
   "execution_count": 52,
   "id": "d47aa808",
   "metadata": {},
   "outputs": [
    {
     "data": {
      "text/plain": [
       "5.0    0.196937\n",
       "4.0    0.193342\n",
       "3.0    0.165677\n",
       "2.0    0.159425\n",
       "1.0    0.138324\n",
       "6.0    0.101594\n",
       "7.0    0.044701\n",
       "Name: Placement Day, dtype: float64"
      ]
     },
     "execution_count": 52,
     "metadata": {},
     "output_type": "execute_result"
    }
   ],
   "source": [
    "### add an extra column\n",
    "df['Placement Day'].value_counts(normalize=True) # orders placed on Friday have the highest rate of cancellation at 19.7%"
   ]
  },
  {
   "cell_type": "code",
   "execution_count": 166,
   "id": "ea696ded",
   "metadata": {},
   "outputs": [
    {
     "data": {
      "image/png": "[encoded data removed]",
      "text/plain": [
       "<Figure size 1152x864 with 1 Axes>"
      ]
     },
     "metadata": {},
     "output_type": "display_data"
    }
   ],
   "source": [
    "my_df= df[['Placement Day','Cancel Reason']].copy()\n",
    "my_df['Placement Day'] = my_df['Placement Day'].map({1:'Mon',2:'Tue',3:'Wed',4:'Thur',5:'Fri',6:'Sat',7:'Sun'})\n",
    "colors = ['red','magenta','green','navy','turquoise','indigo','tomato']\n",
    "cancel_day = pd.pivot_table(data=my_df.groupby(['Placement Day'],sort=False)['Cancel Reason'].value_counts().reset_index(name='count').sort_values(by='count',ascending=False),index=['Placement Day'], columns='Cancel Reason',fill_value=0)\n",
    "ax = cancel_day.plot(kind='bar',figsize=(16,12),fontsize=15,color=colors)\n",
    "\n",
    "ax.set_title('Cancellations by day of week',fontsize=20,fontweight='bold')\n",
    "ax.set_ylabel('Number of Cancellations',fontsize=16,fontweight='bold')\n",
    "ax.set_xlabel('Day of Week',fontsize=16,fontweight='bold')\n",
    "\n",
    "L=ax.legend(fontsize=14)\n",
    "L.set_title('Type of Claim',prop={'size':12})\n",
    "L.get_texts()[0].set_text('Customer Error')\n",
    "L.get_texts()[1].set_text('Delay')\n",
    "L.get_texts()[2].set_text('I placed the wrong locations')\n",
    "L.get_texts()[3].set_text('My order is not ready')\n",
    "L.get_texts()[4].set_text('No Partner')\n",
    "L.get_texts()[5].set_text('No driver has been allocated to my request')\n",
    "L.get_texts()[6].set_text('The driver is too far away')\n",
    "plt.savefig('placement_day.png')"
   ]
  },
  {
   "cell_type": "code",
   "execution_count": null,
   "id": "71319333",
   "metadata": {},
   "outputs": [],
   "source": []
  },
  {
   "cell_type": "code",
   "execution_count": 62,
   "id": "1c7a9613",
   "metadata": {},
   "outputs": [
    {
     "data": {
      "text/plain": [
       "5.0    0.204439\n",
       "4.0    0.185683\n",
       "3.0    0.165052\n",
       "2.0    0.163332\n",
       "1.0    0.130041\n",
       "6.0    0.103314\n",
       "7.0    0.048140\n",
       "Name: Cancellation Day, dtype: float64"
      ]
     },
     "execution_count": 62,
     "metadata": {},
     "output_type": "execute_result"
    }
   ],
   "source": [
    "df['Cancellation Day'].value_counts(normalize=True) # most orders were cancelled on Friday"
   ]
  },
  {
   "cell_type": "code",
   "execution_count": 57,
   "id": "bd54dde5",
   "metadata": {},
   "outputs": [
    {
     "data": {
      "text/plain": [
       "0.0    3516\n",
       "4.0     587\n",
       "5.0     555\n",
       "2.0     523\n",
       "3.0     498\n",
       "1.0     423\n",
       "6.0     227\n",
       "7.0      69\n",
       "Name: Confirmation Day, dtype: int64"
      ]
     },
     "execution_count": 57,
     "metadata": {},
     "output_type": "execute_result"
    }
   ],
   "source": [
    "df['Confirmation Day'].fillna(0).value_counts()"
   ]
  },
  {
   "cell_type": "code",
   "execution_count": 63,
   "id": "2e9605e5",
   "metadata": {},
   "outputs": [],
   "source": [
    "filt = (df['Placement Day'] == df['Cancellation Day']) # these orders were the same day as they were placed\n",
    "df['Same Day'] = filt"
   ]
  },
  {
   "cell_type": "code",
   "execution_count": 66,
   "id": "6f8873a8",
   "metadata": {},
   "outputs": [
    {
     "data": {
      "text/plain": [
       "True     0.929666\n",
       "False    0.070334\n",
       "Name: Same Day, dtype: float64"
      ]
     },
     "execution_count": 66,
     "metadata": {},
     "output_type": "execute_result"
    }
   ],
   "source": [
    "df['Same Day'].value_counts(normalize=True) # 93 % of orders were cancelled the same day they were placed"
   ]
  },
  {
   "cell_type": "code",
   "execution_count": 68,
   "id": "048a63a1",
   "metadata": {},
   "outputs": [
    {
     "data": {
      "text/plain": [
       "Same Day  Cancel Reason                              \n",
       "False     No Partner                                     0.855556\n",
       "          Customer error                                 0.046667\n",
       "          No driver has been allocated to my request.    0.040000\n",
       "          I placed the wrong locations.                  0.020000\n",
       "          The driver is too far away.                    0.015556\n",
       "          My order is not ready.                         0.013333\n",
       "          Delay                                          0.008889\n",
       "True      No driver has been allocated to my request.    0.295393\n",
       "          My order is not ready.                         0.203093\n",
       "          I placed the wrong locations.                  0.185777\n",
       "          No Partner                                     0.152656\n",
       "          The driver is too far away.                    0.098689\n",
       "          Customer error                                 0.053127\n",
       "          Delay                                          0.011264\n",
       "Name: Cancel Reason, dtype: float64"
      ]
     },
     "execution_count": 68,
     "metadata": {},
     "output_type": "execute_result"
    }
   ],
   "source": [
    "df_same_day_cancel_grp = df.groupby(['Same Day'])\n",
    "df_same_day_cancel_grp['Cancel Reason'].value_counts(normalize=True)"
   ]
  },
  {
   "cell_type": "code",
   "execution_count": 69,
   "id": "20b58c9f",
   "metadata": {},
   "outputs": [
    {
     "data": {
      "text/plain": [
       "1"
      ]
     },
     "execution_count": 69,
     "metadata": {},
     "output_type": "execute_result"
    }
   ],
   "source": [
    "# orders that were cancelled on the same day\n",
    "same_day_df = df[filt]\n",
    "same_day_df['Same Day'].nunique()"
   ]
  },
  {
   "cell_type": "code",
   "execution_count": 79,
   "id": "c84791aa",
   "metadata": {},
   "outputs": [],
   "source": [
    "same_day_df = same_day_df[['Placement Time','Cancellation Time']].apply(lambda x: pd.to_datetime(x,format='%H:%M:%S'))\n"
   ]
  },
  {
   "cell_type": "code",
   "execution_count": 80,
   "id": "b4fd5cb4",
   "metadata": {},
   "outputs": [],
   "source": [
    "same_day_df['Wait Time'] = same_day_df['Cancellation Time'] - same_day_df['Placement Time']"
   ]
  },
  {
   "cell_type": "code",
   "execution_count": 84,
   "id": "f4fcc4be",
   "metadata": {},
   "outputs": [],
   "source": [
    "same_day_df['Wait Time'] = same_day_df['Wait Time'].dt.total_seconds()"
   ]
  },
  {
   "cell_type": "code",
   "execution_count": 86,
   "id": "18fa94fa",
   "metadata": {},
   "outputs": [
    {
     "data": {
      "text/plain": [
       "min      -54053.000000\n",
       "mean       2509.719401\n",
       "median      698.000000\n",
       "max       39669.000000\n",
       "Name: Wait Time, dtype: float64"
      ]
     },
     "execution_count": 86,
     "metadata": {},
     "output_type": "execute_result"
    }
   ],
   "source": [
    "same_day_df['Wait Time'].agg(['min','mean','median','max'])"
   ]
  },
  {
   "cell_type": "code",
   "execution_count": 88,
   "id": "601fe320",
   "metadata": {},
   "outputs": [
    {
     "data": {
      "text/html": [
       "<div>\n",
       "<style scoped>\n",
       "    .dataframe tbody tr th:only-of-type {\n",
       "        vertical-align: middle;\n",
       "    }\n",
       "\n",
       "    .dataframe tbody tr th {\n",
       "        vertical-align: top;\n",
       "    }\n",
       "\n",
       "    .dataframe thead th {\n",
       "        text-align: right;\n",
       "    }\n",
       "</style>\n",
       "<table border=\"1\" class=\"dataframe\">\n",
       "  <thead>\n",
       "    <tr style=\"text-align: right;\">\n",
       "      <th></th>\n",
       "      <th>Placement Time</th>\n",
       "      <th>Cancellation Time</th>\n",
       "      <th>Wait Time</th>\n",
       "    </tr>\n",
       "  </thead>\n",
       "  <tbody>\n",
       "    <tr>\n",
       "      <th>792</th>\n",
       "      <td>1900-01-01 15:01:07</td>\n",
       "      <td>1900-01-01 00:00:14</td>\n",
       "      <td>-54053.0</td>\n",
       "    </tr>\n",
       "    <tr>\n",
       "      <th>2468</th>\n",
       "      <td>1900-01-01 10:33:37</td>\n",
       "      <td>1900-01-01 10:24:14</td>\n",
       "      <td>-563.0</td>\n",
       "    </tr>\n",
       "    <tr>\n",
       "      <th>3367</th>\n",
       "      <td>1900-01-01 15:34:40</td>\n",
       "      <td>1900-01-01 12:40:23</td>\n",
       "      <td>-10457.0</td>\n",
       "    </tr>\n",
       "  </tbody>\n",
       "</table>\n",
       "</div>"
      ],
      "text/plain": [
       "          Placement Time   Cancellation Time  Wait Time\n",
       "792  1900-01-01 15:01:07 1900-01-01 00:00:14   -54053.0\n",
       "2468 1900-01-01 10:33:37 1900-01-01 10:24:14     -563.0\n",
       "3367 1900-01-01 15:34:40 1900-01-01 12:40:23   -10457.0"
      ]
     },
     "execution_count": 88,
     "metadata": {},
     "output_type": "execute_result"
    }
   ],
   "source": [
    "same_day_df[same_day_df['Wait Time'] < 0] # These rows have wrong data inputs. cancellation time before confirmation time"
   ]
  },
  {
   "cell_type": "code",
   "execution_count": 92,
   "id": "a74f6460",
   "metadata": {},
   "outputs": [
    {
     "data": {
      "text/plain": [
       "Personal or Business          Business\n",
       "Business Number                22996.0\n",
       "Vehicle Type                      Bike\n",
       "Standard or Express            Express\n",
       "Platform                       desktop\n",
       "Cancel Reason           Customer error\n",
       "Cancelled by                     Staff\n",
       "Placement Day                      1.0\n",
       "Placement Time                15:01:07\n",
       "Confirmation Day                   1.0\n",
       "Confirmation Time             15:01:36\n",
       "Cancellation Day                   1.0\n",
       "Cancellation Time             00:00:14\n",
       "Distance (KM)                      2.0\n",
       "Pickup Lat                   -1.305607\n",
       "Pickup Long                  36.771842\n",
       "scheduled                     OnDemAND\n",
       "Same Day                          True\n",
       "Name: 792, dtype: object"
      ]
     },
     "execution_count": 92,
     "metadata": {},
     "output_type": "execute_result"
    }
   ],
   "source": [
    "df.iloc[792]"
   ]
  },
  {
   "cell_type": "code",
   "execution_count": null,
   "id": "bb2633e7",
   "metadata": {},
   "outputs": [],
   "source": []
  },
  {
   "cell_type": "markdown",
   "id": "7dfd8f96",
   "metadata": {},
   "source": [
    "##### New Day\n"
   ]
  },
  {
   "cell_type": "code",
   "execution_count": 18,
   "id": "83c3121e",
   "metadata": {},
   "outputs": [
    {
     "data": {
      "text/html": [
       "<div>\n",
       "<style scoped>\n",
       "    .dataframe tbody tr th:only-of-type {\n",
       "        vertical-align: middle;\n",
       "    }\n",
       "\n",
       "    .dataframe tbody tr th {\n",
       "        vertical-align: top;\n",
       "    }\n",
       "\n",
       "    .dataframe thead th {\n",
       "        text-align: right;\n",
       "    }\n",
       "</style>\n",
       "<table border=\"1\" class=\"dataframe\">\n",
       "  <thead>\n",
       "    <tr style=\"text-align: right;\">\n",
       "      <th></th>\n",
       "      <th>Personal or Business</th>\n",
       "      <th>Business Number</th>\n",
       "      <th>Vehicle Type</th>\n",
       "      <th>Standard or Express</th>\n",
       "      <th>Platform</th>\n",
       "      <th>Cancel Reason</th>\n",
       "      <th>Cancelled by</th>\n",
       "      <th>Placement Day</th>\n",
       "      <th>Cancellation Day</th>\n",
       "      <th>scheduled</th>\n",
       "    </tr>\n",
       "  </thead>\n",
       "  <tbody>\n",
       "    <tr>\n",
       "      <th>count</th>\n",
       "      <td>6398</td>\n",
       "      <td>3064.0</td>\n",
       "      <td>6398</td>\n",
       "      <td>6393</td>\n",
       "      <td>6398</td>\n",
       "      <td>6398</td>\n",
       "      <td>6398</td>\n",
       "      <td>6398.0</td>\n",
       "      <td>6398.0</td>\n",
       "      <td>6398</td>\n",
       "    </tr>\n",
       "    <tr>\n",
       "      <th>unique</th>\n",
       "      <td>2</td>\n",
       "      <td>220.0</td>\n",
       "      <td>2</td>\n",
       "      <td>2</td>\n",
       "      <td>5</td>\n",
       "      <td>7</td>\n",
       "      <td>2</td>\n",
       "      <td>7.0</td>\n",
       "      <td>7.0</td>\n",
       "      <td>2</td>\n",
       "    </tr>\n",
       "    <tr>\n",
       "      <th>top</th>\n",
       "      <td>Personal</td>\n",
       "      <td>20680.0</td>\n",
       "      <td>Bike</td>\n",
       "      <td>Express</td>\n",
       "      <td>android</td>\n",
       "      <td>No driver has been allocated to my request.</td>\n",
       "      <td>Customer</td>\n",
       "      <td>5.0</td>\n",
       "      <td>5.0</td>\n",
       "      <td>OnDemAND</td>\n",
       "    </tr>\n",
       "    <tr>\n",
       "      <th>freq</th>\n",
       "      <td>3334</td>\n",
       "      <td>627.0</td>\n",
       "      <td>6390</td>\n",
       "      <td>4013</td>\n",
       "      <td>2742</td>\n",
       "      <td>1775</td>\n",
       "      <td>4697</td>\n",
       "      <td>1260.0</td>\n",
       "      <td>1308.0</td>\n",
       "      <td>6151</td>\n",
       "    </tr>\n",
       "  </tbody>\n",
       "</table>\n",
       "</div>"
      ],
      "text/plain": [
       "       Personal or Business  Business Number Vehicle Type Standard or Express  \\\n",
       "count                  6398           3064.0         6398                6393   \n",
       "unique                    2            220.0            2                   2   \n",
       "top                Personal          20680.0         Bike             Express   \n",
       "freq                   3334            627.0         6390                4013   \n",
       "\n",
       "       Platform                                Cancel Reason Cancelled by  \\\n",
       "count      6398                                         6398         6398   \n",
       "unique        5                                            7            2   \n",
       "top     android  No driver has been allocated to my request.     Customer   \n",
       "freq       2742                                         1775         4697   \n",
       "\n",
       "        Placement Day  Cancellation Day scheduled  \n",
       "count          6398.0            6398.0      6398  \n",
       "unique            7.0               7.0         2  \n",
       "top               5.0               5.0  OnDemAND  \n",
       "freq           1260.0            1308.0      6151  "
      ]
     },
     "execution_count": 18,
     "metadata": {},
     "output_type": "execute_result"
    }
   ],
   "source": [
    "cat_df.describe()"
   ]
  },
  {
   "cell_type": "code",
   "execution_count": 21,
   "id": "2ba47b56",
   "metadata": {},
   "outputs": [
    {
     "data": {
      "text/plain": [
       "No driver has been allocated to my request.    0.277430\n",
       "No Partner                                     0.202094\n",
       "My order is not ready.                         0.189747\n",
       "I placed the wrong locations.                  0.174117\n",
       "The driver is too far away.                    0.092842\n",
       "Customer error                                 0.052673\n",
       "Delay                                          0.011097\n",
       "Name: Cancel Reason, dtype: float64"
      ]
     },
     "execution_count": 21,
     "metadata": {},
     "output_type": "execute_result"
    }
   ],
   "source": [
    "cat_df['Cancel Reason'].value_counts(normalize=True)"
   ]
  },
  {
   "cell_type": "code",
   "execution_count": null,
   "id": "d8fd5cd7",
   "metadata": {},
   "outputs": [],
   "source": []
  }
 ],
 "metadata": {
  "kernelspec": {
   "display_name": "Python 3 (ipykernel)",
   "language": "python",
   "name": "python3"
  },
  "language_info": {
   "codemirror_mode": {
    "name": "ipython",
    "version": 3
   },
   "file_extension": ".py",
   "mimetype": "text/x-python",
   "name": "python",
   "nbconvert_exporter": "python",
   "pygments_lexer": "ipython3",
   "version": "3.8.10"
  }
 },
 "nbformat": 4,
 "nbformat_minor": 5
}
